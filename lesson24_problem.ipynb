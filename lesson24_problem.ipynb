{
 "cells": [
  {
   "cell_type": "markdown",
   "id": "35a2a5e4",
   "metadata": {},
   "source": [
    "# Problem Statement\n",
    "\n",
    "TO HAVE: <br><br>\n",
    "\n",
    "Functions: <br><br>\n",
    "Record Students enter <br><br>\n",
    "Record Student leave <br><br>\n",
    "Print all students in lists <br><br>\n",
    "Add approved students <br><br>\n",
    "Print all unauthorised entry <br><br>\n",
    "\n",
    "TO USE: <br><br>\n",
    "Loops, Validation to prevent double entry (Maybe a check func or check be4 append)"
   ]
  },
  {
   "cell_type": "code",
   "execution_count": null,
   "id": "c0f4987f",
   "metadata": {},
   "outputs": [
    {
     "name": "stdout",
     "output_type": "stream",
     "text": [
      "1. Record a student entering the campus\n",
      "2. Record a student leaving the campus\n",
      "3. Print all students currently on campus\n",
      "4. Add a student to the authorised list\n",
      "5. Print unauthorised entry attempts\n",
      "6. Exit\n",
      "Exiting system\n"
     ]
    }
   ],
   "source": [
    "def student_enter():\n",
    "\n",
    "    print(\"Placeholder\")\n",
    "\n",
    "def student_leave():\n",
    "\n",
    "    print(\"Placeholder\")\n",
    "\n",
    "def students_in_campus():\n",
    "\n",
    "    print(\"Placeholder\")\n",
    "\n",
    "def add_student():\n",
    "\n",
    "    print(\"Placeholder\")\n",
    "\n",
    "def unauthorised_entries():\n",
    "\n",
    "    print(\"Placeholder\")\n",
    "    print(\"trololol\")\n",
    "\n",
    "\n",
    "def display_menu():\n",
    "\n",
    "    get_user_input = \"\"\n",
    "\n",
    "    while get_user_input != \"6\":\n",
    "\n",
    "        print(\"1. Record a student entering the campus\")\n",
    "        print(\"2. Record a student leaving the campus\")\n",
    "        print(\"3. Print all students currently on campus\")\n",
    "        print(\"4. Add a student to the authorised list\")\n",
    "        print(\"5. Print unauthorised entry attempts\")\n",
    "        print(\"6. Exit\")\n",
    "        get_user_input = input(\"Enter option (1-6): \")\n",
    "    \n",
    "    else:\n",
    "        print(\"Exiting system\")\n",
    "\n",
    "\n",
    "\n",
    "display_menu()\n",
    "print(\"nono\")\n",
    "print(\"uhhhh\")"
   ]
  },
  {
   "cell_type": "code",
   "execution_count": null,
   "id": "bd2016fa",
   "metadata": {},
   "outputs": [],
   "source": []
  }
 ],
 "metadata": {
  "kernelspec": {
   "display_name": "Python 3",
   "language": "python",
   "name": "python3"
  },
  "language_info": {
   "codemirror_mode": {
    "name": "ipython",
    "version": 3
   },
   "file_extension": ".py",
   "mimetype": "text/x-python",
   "name": "python",
   "nbconvert_exporter": "python",
   "pygments_lexer": "ipython3",
   "version": "3.11.9"
  }
 },
 "nbformat": 4,
 "nbformat_minor": 5
}
